{
 "cells": [
  {
   "cell_type": "code",
   "execution_count": 1,
   "metadata": {},
   "outputs": [],
   "source": [
    "sbox=dict()\n",
    "sbox['0000']='1001'\n",
    "sbox['0001']='0100'\n",
    "sbox['0010']='1010'\n",
    "sbox['0011']='1011'\n",
    "sbox['0100']='1101'\n",
    "sbox['0101']='0001'\n",
    "sbox['0110']='1000'\n",
    "sbox['0111']='0101'\n",
    "sbox['1000']='0110'\n",
    "sbox['1001']='0010'\n",
    "sbox['1010']='0000'\n",
    "sbox['1011']='0011'\n",
    "sbox['1100']='1100'\n",
    "sbox['1101']='1110'\n",
    "sbox['1110']='1111'\n",
    "sbox['1111']='0111'"
   ]
  },
  {
   "cell_type": "code",
   "execution_count": 2,
   "metadata": {},
   "outputs": [],
   "source": [
    "mult = {}\n",
    "\n",
    "mult[\"0100\"] = {\"0000\" : \"0000\", \"0001\" : \"0100\", \"0010\" : \"1000\", \"0011\" : \"1100\",                 \"0100\" : \"0011\", \"0101\" : \"0111\", \"0110\" : \"1011\", \"0111\" : \"1111\",                 \"1000\" : \"0110\", \"1001\" : \"0010\", \"1010\" : \"1110\", \"1011\" : \"1010\",                 \"1100\" : \"0101\", \"1101\" : \"0001\", \"1110\" : \"1101\", \"1111\" : \"1001\"}\n",
    "\n",
    "mult[\"0010\"] = {\"0000\" : \"0000\", \"0001\" : \"0010\", \"0010\" : \"0100\", \"0011\" : \"0110\",                \"0100\" : \"1000\", \"0101\" : \"1010\", \"0110\" : \"1100\", \"0111\" : \"1110\",                \"1000\" : \"0011\", \"1001\" : \"0001\", \"1010\" : \"0111\", \"1011\" : \"0101\",                \"1100\" : \"1011\", \"1101\" : \"1001\", \"1110\" : \"1111\", \"1111\" : \"1101\"}\n",
    "\n",
    "mult[\"1001\"] = {\"0000\" : \"0000\", \"0001\" : \"1001\", \"0010\" : \"0001\", \"0011\" : \"1000\",                \"0100\" : \"0010\", \"0101\" : \"1011\", \"0110\" : \"0011\", \"0111\" : \"1010\",                \"1000\" : \"0100\", \"1001\" : \"1101\", \"1010\" : \"0101\", \"1011\" : \"1100\",                \"1100\" : \"0110\", \"1101\" : \"1111\", \"1110\" : \"0111\", \"1111\" : \"1110\"}"
   ]
  },
  {
   "cell_type": "code",
   "execution_count": 3,
   "metadata": {
    "id": "y-nPdbIrzPrc"
   },
   "outputs": [],
   "source": [
    "def nibblesubs(N,inv=0):\n",
    "  n=int(len(N)/2)\n",
    "  left=N[:n]\n",
    "  right=N[n:]\n",
    "  l=\"\"\n",
    "  r=\"\"\n",
    "  for i in range(n):\n",
    "    l=l+str(left[i])\n",
    "    r=r+str(right[i])\n",
    "  \n",
    "  if inv == 0:  \n",
    "      s=sbox[l]+sbox[r]\n",
    "    \n",
    "  else:\n",
    "    decryptionsbox=dict()\n",
    "    for k,v in sbox.items():\n",
    "        decryptionsbox[v]=k\n",
    "    s=decryptionsbox[l]+decryptionsbox[r]\n",
    "\n",
    "  output=[]\n",
    "  for i in s:\n",
    "    output.append(int(i))\n",
    "\n",
    "  return output"
   ]
  },
  {
   "cell_type": "code",
   "execution_count": 4,
   "metadata": {
    "id": "HdWguLYxzg0X"
   },
   "outputs": [],
   "source": [
    "def shiftrow(N):\n",
    "  N0=N[:4]\n",
    "  N1=N[4:8]                            \n",
    "  N2=N[8:12]\n",
    "  N3=N[12:16]\n",
    "\n",
    "  return N0+N3+N2+N1"
   ]
  },
  {
   "cell_type": "code",
   "execution_count": 5,
   "metadata": {},
   "outputs": [],
   "source": [
    "def mixcolumns(N):\n",
    "    N0=N[:4]\n",
    "    N1=N[4:8]\n",
    "    N2=N[8:12]\n",
    "    N3=N[12:16]\n",
    "    S_00 = exor(N0, [int(x) for x in mult[\"0100\"][getString(N1)]])\n",
    "    S_01 = exor(N2, [int(x) for x in mult[\"0100\"][getString(N3)]])\n",
    "    S_10 = exor(N1, [int(x) for x in mult[\"0100\"][getString(N0)]])\n",
    "    S_11 = exor(N3, [int(x) for x in mult[\"0100\"][getString(N2)]])\n",
    "    return S_00+S_10+S_01+S_11"
   ]
  },
  {
   "cell_type": "code",
   "execution_count": 6,
   "metadata": {},
   "outputs": [],
   "source": [
    "def invmixcolumns(N):\n",
    "    N0=N[:4]\n",
    "    N1=N[4:8]\n",
    "    N2=N[8:12]\n",
    "    N3=N[12:16]\n",
    "    S_00 = exor([int(x) for x in mult[\"1001\"][getString(N0)]],[int(x) for x in mult[\"0010\"][getString(N1)]])\n",
    "    S_01 = exor([int(x) for x in mult[\"1001\"][getString(N2)]],[int(x) for x in mult[\"0010\"][getString(N3)]])\n",
    "    S_10 = exor([int(x) for x in mult[\"1001\"][getString(N1)]],[int(x) for x in mult[\"0010\"][getString(N0)]])\n",
    "    S_11 = exor([int(x) for x in mult[\"1001\"][getString(N3)]],[int(x) for x in mult[\"0010\"][getString(N2)]])\n",
    "    return S_00+S_10+S_01+S_11"
   ]
  },
  {
   "cell_type": "code",
   "execution_count": 7,
   "metadata": {
    "id": "AUDHwzmh7fum"
   },
   "outputs": [],
   "source": [
    "def rotatenibble(N):\n",
    "  n=int(len(N)/2)\n",
    "  left=N[:n]\n",
    "  right=N[n:]\n",
    "\n",
    "  return right+left"
   ]
  },
  {
   "cell_type": "code",
   "execution_count": 8,
   "metadata": {
    "id": "KaYdcKD7-vq1"
   },
   "outputs": [],
   "source": [
    "def exor(a,b):\n",
    "  out=[]\n",
    "  for i in range(len(a)):\n",
    "    out.append(a[i]^b[i])\n",
    "  return out"
   ]
  },
  {
   "cell_type": "code",
   "execution_count": 9,
   "metadata": {
    "id": "J_99Rri064J5"
   },
   "outputs": [],
   "source": [
    "def keyschedule(k):\n",
    "  #converting string to list for easy calculations\n",
    "  key=[]\n",
    "  for i in k:\n",
    "   key.append(int(i))\n",
    "\n",
    "  w=[]\n",
    "  w.append(key[:8])\n",
    "  w.append(key[8:])\n",
    "  w.append(exor(exor(w[0],[1,0,0,0,0,0,0,0]),nibblesubs(rotatenibble(w[1]))))\n",
    "  w.append(exor(w[2],w[1]))\n",
    "  w.append(exor(exor(w[2],[0,0,1,1,0,0,0,0]),nibblesubs(rotatenibble(w[3]))))\n",
    "  w.append(exor(w[4],w[3]))\n",
    "  K0=w[0]+w[1]\n",
    "  K1=w[2]+w[3]\n",
    "  K2=w[4]+w[5]\n",
    "  return K0,K1,K2"
   ]
  },
  {
   "cell_type": "code",
   "execution_count": 10,
   "metadata": {
    "id": "PpkXfW3fCHTV"
   },
   "outputs": [],
   "source": [
    "def encryption(K0,K1,K2,text):\n",
    "  t=[]\n",
    "  for i in text:\n",
    "    t.append(int(i))\n",
    "\n",
    "  #Round 0\n",
    "  round0=exor(t,K0)\n",
    "  \n",
    "  #Round 1\"\n",
    "  nbsub1=nibblesubs(round0[:8])\n",
    "  nbsub2=nibblesubs(round0[8:])\n",
    "  nbsub=nbsub1+nbsub2\n",
    "  sr=shiftrow(nbsub)\n",
    "  mc=mixcolumns(sr)\n",
    "  round1=exor(mc,K1)\n",
    "\n",
    "  #Round 2\n",
    "  finalnbsub1=nibblesubs(round1[:8])\n",
    "  finalnbsub2=nibblesubs(round1[8:])\n",
    "  finalnbsub=finalnbsub1+finalnbsub2\n",
    "  finalsr=shiftrow(finalnbsub)\n",
    "\n",
    "  ciphertext=exor(finalsr,K2)\n",
    "  return ciphertext"
   ]
  },
  {
   "cell_type": "code",
   "execution_count": 11,
   "metadata": {},
   "outputs": [],
   "source": [
    "def decryption(K0,K1,K2,cipher):\n",
    "    t=[]\n",
    "    for i in cipher:\n",
    "        t.append(int(i))\n",
    "\n",
    "    #Round 2\n",
    "    round2=exor(t,K2)\n",
    "    \n",
    "    #Round 1\n",
    "    sr=shiftrow(round2)\n",
    "    invnbsub1=nibblesubs(sr[:8],1)\n",
    "    invnbsub2=nibblesubs(sr[8:],1)\n",
    "    invnbsub=invnbsub1+invnbsub2\n",
    "    round1=exor(invnbsub,K1)\n",
    "    \n",
    "    #Round 0\n",
    "    invmc=invmixcolumns(round1)\n",
    "    finalsr=shiftrow(invmc)\n",
    "    finalnbsub1=nibblesubs(finalsr[:8],1)\n",
    "    finalnbsub2=nibblesubs(finalsr[8:],1)\n",
    "    finalnbsub=finalnbsub1+finalnbsub2\n",
    "    plaintext=exor(finalnbsub,K0)\n",
    "    \n",
    "    return plaintext"
   ]
  },
  {
   "cell_type": "code",
   "execution_count": 12,
   "metadata": {
    "id": "fdUyRot3HhM4"
   },
   "outputs": [],
   "source": [
    "def getString(l):\n",
    "  s=\"\"\n",
    "  for i in l:\n",
    "    s=s+str(i)\n",
    "  return s"
   ]
  },
  {
   "cell_type": "code",
   "execution_count": 13,
   "metadata": {
    "colab": {
     "base_uri": "https://localhost:8080/"
    },
    "id": "DVnMgBr5_gEc",
    "outputId": "c3ed1e18-ceca-469f-d640-82f8dedfc871"
   },
   "outputs": [
    {
     "name": "stdout",
     "output_type": "stream",
     "text": [
      "16 bit Key: 1100001111110000\n",
      "16 bit Plaintext: 1001110001100011\n",
      "\n",
      "\n",
      "Ciphertext: 1011110101101001\n",
      "Decrypted Text 1001110001100011\n"
     ]
    }
   ],
   "source": [
    "#  k='0100101011110101'\n",
    "#  plaintext='1101011100101000'\n",
    "k='1100001111110000'\n",
    "plaintext='1001110001100011'\n",
    "\n",
    "\n",
    "Key0,Key1,Key2=keyschedule(k)\n",
    "cipher=encryption(Key0,Key1,Key2,plaintext)\n",
    "ciphertext=getString(cipher)\n",
    "\n",
    "print(\"16 bit Key:\",k)\n",
    "print(\"16 bit Plaintext:\",plaintext)\n",
    "print(\"\\n\")\n",
    "print(\"Ciphertext:\",ciphertext)\n",
    "\n",
    "decrypt=decryption(Key0,Key1,Key2,ciphertext)\n",
    "decryptedtext = getString(decrypt)\n",
    "print(\"Decrypted Text\",decryptedtext)"
   ]
  },
  {
   "cell_type": "code",
   "execution_count": null,
   "metadata": {},
   "outputs": [],
   "source": []
  }
 ],
 "metadata": {
  "colab": {
   "collapsed_sections": [],
   "name": "I&CS-2.ipynb",
   "provenance": []
  },
  "kernelspec": {
   "display_name": "Python 3 (ipykernel)",
   "language": "python",
   "name": "python3"
  },
  "language_info": {
   "codemirror_mode": {
    "name": "ipython",
    "version": 3
   },
   "file_extension": ".py",
   "mimetype": "text/x-python",
   "name": "python",
   "nbconvert_exporter": "python",
   "pygments_lexer": "ipython3",
   "version": "3.9.7"
  }
 },
 "nbformat": 4,
 "nbformat_minor": 1
}
