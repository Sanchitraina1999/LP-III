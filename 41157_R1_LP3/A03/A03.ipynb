{
 "cells": [
  {
   "cell_type": "code",
   "execution_count": 1,
   "metadata": {
    "colab": {
     "base_uri": "https://localhost:8080/",
     "height": 225
    },
    "id": "N5Xc9x7ZUf55",
    "outputId": "00b4434f-1d12-45eb-e0f0-a299e909c16e"
   },
   "outputs": [
    {
     "data": {
      "text/html": [
       "<div>\n",
       "<style scoped>\n",
       "    .dataframe tbody tr th:only-of-type {\n",
       "        vertical-align: middle;\n",
       "    }\n",
       "\n",
       "    .dataframe tbody tr th {\n",
       "        vertical-align: top;\n",
       "    }\n",
       "\n",
       "    .dataframe thead th {\n",
       "        text-align: right;\n",
       "    }\n",
       "</style>\n",
       "<table border=\"1\" class=\"dataframe\">\n",
       "  <thead>\n",
       "    <tr style=\"text-align: right;\">\n",
       "      <th></th>\n",
       "      <th>x</th>\n",
       "      <th>y</th>\n",
       "      <th>class</th>\n",
       "    </tr>\n",
       "  </thead>\n",
       "  <tbody>\n",
       "    <tr>\n",
       "      <th>0</th>\n",
       "      <td>2</td>\n",
       "      <td>4</td>\n",
       "      <td>negative</td>\n",
       "    </tr>\n",
       "    <tr>\n",
       "      <th>1</th>\n",
       "      <td>4</td>\n",
       "      <td>2</td>\n",
       "      <td>negative</td>\n",
       "    </tr>\n",
       "    <tr>\n",
       "      <th>2</th>\n",
       "      <td>4</td>\n",
       "      <td>4</td>\n",
       "      <td>positive</td>\n",
       "    </tr>\n",
       "    <tr>\n",
       "      <th>3</th>\n",
       "      <td>4</td>\n",
       "      <td>6</td>\n",
       "      <td>negative</td>\n",
       "    </tr>\n",
       "    <tr>\n",
       "      <th>4</th>\n",
       "      <td>6</td>\n",
       "      <td>2</td>\n",
       "      <td>positive</td>\n",
       "    </tr>\n",
       "    <tr>\n",
       "      <th>5</th>\n",
       "      <td>6</td>\n",
       "      <td>4</td>\n",
       "      <td>negative</td>\n",
       "    </tr>\n",
       "  </tbody>\n",
       "</table>\n",
       "</div>"
      ],
      "text/plain": [
       "   x  y     class\n",
       "0  2  4  negative\n",
       "1  4  2  negative\n",
       "2  4  4  positive\n",
       "3  4  6  negative\n",
       "4  6  2  positive\n",
       "5  6  4  negative"
      ]
     },
     "execution_count": 1,
     "metadata": {},
     "output_type": "execute_result"
    }
   ],
   "source": [
    "import pandas as pd\n",
    "import numpy as np\n",
    "import math\n",
    "from sklearn.model_selection import train_test_split\n",
    "from sklearn.neighbors import KNeighborsClassifier as knn\n",
    "\n",
    "df =pd.read_csv('KNN.csv')\n",
    "df"
   ]
  },
  {
   "cell_type": "code",
   "execution_count": 2,
   "metadata": {},
   "outputs": [],
   "source": [
    "def manual_knn(xtrain,xtest,ytrain,ytest,trainclass,testclass=[],weighted=0):\n",
    "    k=3\n",
    "    predclass=list()\n",
    "    distances=list()\n",
    "    for i in range(len(xtest)):\n",
    "      distances = []\n",
    "      for j in range(len(xtrain)):\n",
    "        xd=(xtest[i]-xtrain[j])**2\n",
    "        yd=(ytest[i]-ytrain[j])**2\n",
    "        d=math.sqrt(xd+yd)\n",
    "        row=(trainclass[j],d)\n",
    "        distances.append(row)\n",
    "\n",
    "      l = sorted(distances, key=lambda x: x[1])[:k]\n",
    "      if weighted ==1:\n",
    "          pos=0\n",
    "          neg=0\n",
    "\n",
    "          for d in l:\n",
    "            if d[0]==\"positive\":\n",
    "              pos=pos+(1/d[1])\n",
    "            else:\n",
    "              neg=neg+(1/d[1])\n",
    "      else:  \n",
    "          topclasses=[e[0] for e in l]\n",
    "          pos=topclasses.count(\"positive\")\n",
    "          neg=topclasses.count(\"negative\")\n",
    "      predclass.append(\"positive\" if int(pos > neg) else \"negative\")\n",
    "\n",
    "      print(\"Prediction for (\"+str(xtest[i])+\",\"+str(ytest[i])+\"):\",predclass[-1])\n",
    "    \n",
    "    \n",
    "    \n",
    "    if len(testclass)!=0:\n",
    "        hit=0\n",
    "        for i in range(len(testclass)):\n",
    "          if testclass[i]==predclass[i]:\n",
    "            hit=hit+1\n",
    "        n=len(testclass)\n",
    "        acc=hit/n\n",
    "        print(\"Accuracy Score:\",acc)"
   ]
  },
  {
   "cell_type": "code",
   "execution_count": 3,
   "metadata": {},
   "outputs": [],
   "source": [
    "def auto_knn(model,xtrain,xtest,ytrain,ytest=[],acc=0):\n",
    "    model.fit(xtrain,ytrain)\n",
    "\n",
    "    ypred = model.predict(xtest)\n",
    "    print(xtest)\n",
    "    print(ypred)\n",
    "    if acc!=0:\n",
    "        from sklearn.metrics import accuracy_score\n",
    "        print(\"Accuracy:\",accuracy_score(ypred,ytest))"
   ]
  },
  {
   "cell_type": "markdown",
   "metadata": {},
   "source": [
    "KNN CLASSIFICATION"
   ]
  },
  {
   "cell_type": "code",
   "execution_count": 4,
   "metadata": {},
   "outputs": [
    {
     "name": "stdout",
     "output_type": "stream",
     "text": [
      "Prediction for (2,4): negative\n",
      "Prediction for (4,2): positive\n",
      "Accuracy Score: 0.5\n"
     ]
    }
   ],
   "source": [
    "x_df = df['x'].values\n",
    "y_df = df['y'].values\n",
    "class_df = df['class'].values\n",
    "# print(x_df,y_df,class_df)\n",
    "xtrain, xtest, ytrain, ytest, trainclass, testclass  = train_test_split(x_df, y_df, class_df, random_state=42)\n",
    "# print(xtrain,xtest,ytrain,ytest)\n",
    "manual_knn(xtrain,xtest,ytrain,ytest,trainclass,testclass)"
   ]
  },
  {
   "cell_type": "markdown",
   "metadata": {},
   "source": [
    "SK-LEARN KNN CLASSIFICATION"
   ]
  },
  {
   "cell_type": "code",
   "execution_count": 5,
   "metadata": {
    "id": "5sdUJyotU92L"
   },
   "outputs": [],
   "source": [
    "x = df.iloc[:,:-1].values\n",
    "y = df.iloc[:,2].values"
   ]
  },
  {
   "cell_type": "code",
   "execution_count": 6,
   "metadata": {
    "colab": {
     "base_uri": "https://localhost:8080/"
    },
    "id": "IM32FidQVT8L",
    "outputId": "442d457c-dc79-4830-9a79-57f58999631c",
    "scrolled": true
   },
   "outputs": [
    {
     "name": "stdout",
     "output_type": "stream",
     "text": [
      "[[2 4]\n",
      " [4 2]\n",
      " [4 4]\n",
      " [4 6]\n",
      " [6 2]\n",
      " [6 4]] ['negative' 'negative' 'positive' 'negative' 'positive' 'negative']\n"
     ]
    }
   ],
   "source": [
    "print(x,y)"
   ]
  },
  {
   "cell_type": "code",
   "execution_count": 7,
   "metadata": {},
   "outputs": [
    {
     "name": "stdout",
     "output_type": "stream",
     "text": [
      "[[2 4]\n",
      " [4 2]]\n",
      "['negative' 'positive']\n",
      "Accuracy: 0.5\n"
     ]
    }
   ],
   "source": [
    "x_train, x_test, y_train, y_test = train_test_split(x,y,random_state=42)\n",
    "\n",
    "cf = knn(n_neighbors=3,p=2, metric='euclidean')\n",
    "auto_knn(cf,x_train, x_test, y_train, y_test,1)"
   ]
  },
  {
   "cell_type": "markdown",
   "metadata": {},
   "source": [
    "KNN CLASSIFICATION FOR POINT(6,6)"
   ]
  },
  {
   "cell_type": "code",
   "execution_count": 8,
   "metadata": {
    "scrolled": true
   },
   "outputs": [
    {
     "name": "stdout",
     "output_type": "stream",
     "text": [
      "Prediction for (6,6): negative\n"
     ]
    }
   ],
   "source": [
    "manual_knn(x_df,[6],y_df,[6],class_df)"
   ]
  },
  {
   "cell_type": "markdown",
   "metadata": {},
   "source": [
    "SK-LERAN KNN CLASSIFICATION FOR POINT(6,6)"
   ]
  },
  {
   "cell_type": "code",
   "execution_count": 9,
   "metadata": {
    "colab": {
     "base_uri": "https://localhost:8080/"
    },
    "id": "FuvbQPWCVU66",
    "outputId": "5238cd3d-69cb-4a2c-9559-f2fe0731241b"
   },
   "outputs": [
    {
     "name": "stdout",
     "output_type": "stream",
     "text": [
      "[[6, 6]]\n",
      "['negative']\n"
     ]
    }
   ],
   "source": [
    "# Using Sk-learn Knn for point(6,6)\n",
    "cf = knn(n_neighbors=3,p=2, metric='euclidean')\n",
    "auto_knn(cf,x,[[6,6]],y)"
   ]
  },
  {
   "cell_type": "markdown",
   "metadata": {},
   "source": [
    "WEIGHTED KNN CLASSIFICATION"
   ]
  },
  {
   "cell_type": "code",
   "execution_count": 10,
   "metadata": {},
   "outputs": [
    {
     "name": "stdout",
     "output_type": "stream",
     "text": [
      "Prediction for (2,4): negative\n",
      "Prediction for (4,2): positive\n",
      "Accuracy Score: 0.5\n"
     ]
    }
   ],
   "source": [
    "xtrain, xtest, ytrain, ytest, trainclass, testclass  = train_test_split(x_df, y_df, class_df, random_state=42)\n",
    "manual_knn(xtrain, xtest, ytrain, ytest, trainclass, testclass,1)"
   ]
  },
  {
   "cell_type": "markdown",
   "metadata": {},
   "source": [
    "SK-LEARN WEIGHTED KNN CLASSIFICATION"
   ]
  },
  {
   "cell_type": "code",
   "execution_count": 11,
   "metadata": {},
   "outputs": [
    {
     "name": "stdout",
     "output_type": "stream",
     "text": [
      "[[2 4]\n",
      " [4 2]]\n",
      "['negative' 'positive']\n",
      "Accuracy: 0.5\n"
     ]
    }
   ],
   "source": [
    "xtrain, xtest, ytrain, ytest = train_test_split(x, y,random_state=42)\n",
    "cf = knn(n_neighbors=3, weights=\"distance\",p=2, metric='euclidean')\n",
    "auto_knn(cf,xtrain,xtest,ytrain,ytest,1)"
   ]
  },
  {
   "cell_type": "markdown",
   "metadata": {},
   "source": [
    "WEIGHTED KNN CLASSIFICATION FOR POINT(6,6)"
   ]
  },
  {
   "cell_type": "code",
   "execution_count": 12,
   "metadata": {},
   "outputs": [
    {
     "name": "stdout",
     "output_type": "stream",
     "text": [
      "Prediction for (6,6): negative\n"
     ]
    }
   ],
   "source": [
    "manual_knn(x_df, [6], y_df, [6], class_df, [],1)"
   ]
  },
  {
   "cell_type": "markdown",
   "metadata": {},
   "source": [
    "SK-LEARN WEIGHTED KNN CLASSIFICATION FOR POINT(6,6)"
   ]
  },
  {
   "cell_type": "code",
   "execution_count": 13,
   "metadata": {
    "colab": {
     "base_uri": "https://localhost:8080/"
    },
    "id": "Rj2XIOpfYOUi",
    "outputId": "a8f7fe42-f782-4fbe-d399-90d89f570565"
   },
   "outputs": [
    {
     "name": "stdout",
     "output_type": "stream",
     "text": [
      "[[6, 6]]\n",
      "['negative']\n"
     ]
    }
   ],
   "source": [
    "cf = knn(n_neighbors=3, weights=\"distance\",p=2, metric='euclidean')\n",
    "auto_knn(cf,x,[[6,6]],y)"
   ]
  },
  {
   "cell_type": "code",
   "execution_count": null,
   "metadata": {},
   "outputs": [],
   "source": []
  }
 ],
 "metadata": {
  "colab": {
   "name": "KNN=Assignment3-LP3.ipynb",
   "provenance": []
  },
  "kernelspec": {
   "display_name": "Python 3 (ipykernel)",
   "language": "python",
   "name": "python3"
  },
  "language_info": {
   "codemirror_mode": {
    "name": "ipython",
    "version": 3
   },
   "file_extension": ".py",
   "mimetype": "text/x-python",
   "name": "python",
   "nbconvert_exporter": "python",
   "pygments_lexer": "ipython3",
   "version": "3.9.7"
  }
 },
 "nbformat": 4,
 "nbformat_minor": 1
}
